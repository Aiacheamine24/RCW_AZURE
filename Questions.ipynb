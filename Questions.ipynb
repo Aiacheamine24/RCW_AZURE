{
 "cells": [
  {
   "cell_type": "markdown",
   "metadata": {},
   "source": [
    "## Data Analyse for our data"
   ]
  },
  {
   "cell_type": "code",
   "execution_count": 7,
   "metadata": {},
   "outputs": [
    {
     "data": {
      "text/html": [
       "<div>\n",
       "<style scoped>\n",
       "    .dataframe tbody tr th:only-of-type {\n",
       "        vertical-align: middle;\n",
       "    }\n",
       "\n",
       "    .dataframe tbody tr th {\n",
       "        vertical-align: top;\n",
       "    }\n",
       "\n",
       "    .dataframe thead th {\n",
       "        text-align: right;\n",
       "    }\n",
       "</style>\n",
       "<table border=\"1\" class=\"dataframe\">\n",
       "  <thead>\n",
       "    <tr style=\"text-align: right;\">\n",
       "      <th></th>\n",
       "      <th>age</th>\n",
       "      <th>sex</th>\n",
       "      <th>cp</th>\n",
       "      <th>trestbps</th>\n",
       "      <th>chol</th>\n",
       "      <th>fbs</th>\n",
       "      <th>restecg</th>\n",
       "      <th>thalach</th>\n",
       "      <th>exang</th>\n",
       "      <th>oldpeak</th>\n",
       "      <th>slope</th>\n",
       "      <th>ca</th>\n",
       "      <th>thal</th>\n",
       "      <th>target</th>\n",
       "    </tr>\n",
       "  </thead>\n",
       "  <tbody>\n",
       "    <tr>\n",
       "      <th>count</th>\n",
       "      <td>1025.00</td>\n",
       "      <td>1025.00</td>\n",
       "      <td>1025.00</td>\n",
       "      <td>1025.00</td>\n",
       "      <td>1025.00</td>\n",
       "      <td>1025.00</td>\n",
       "      <td>1025.00</td>\n",
       "      <td>1025.00</td>\n",
       "      <td>1025.00</td>\n",
       "      <td>1025.00</td>\n",
       "      <td>1025.00</td>\n",
       "      <td>1025.00</td>\n",
       "      <td>1025.00</td>\n",
       "      <td>1025.00</td>\n",
       "    </tr>\n",
       "    <tr>\n",
       "      <th>mean</th>\n",
       "      <td>54.43</td>\n",
       "      <td>0.70</td>\n",
       "      <td>0.94</td>\n",
       "      <td>131.61</td>\n",
       "      <td>246.00</td>\n",
       "      <td>0.15</td>\n",
       "      <td>0.53</td>\n",
       "      <td>149.11</td>\n",
       "      <td>0.34</td>\n",
       "      <td>1.07</td>\n",
       "      <td>1.39</td>\n",
       "      <td>0.75</td>\n",
       "      <td>2.32</td>\n",
       "      <td>0.51</td>\n",
       "    </tr>\n",
       "    <tr>\n",
       "      <th>std</th>\n",
       "      <td>9.07</td>\n",
       "      <td>0.46</td>\n",
       "      <td>1.03</td>\n",
       "      <td>17.52</td>\n",
       "      <td>51.59</td>\n",
       "      <td>0.36</td>\n",
       "      <td>0.53</td>\n",
       "      <td>23.01</td>\n",
       "      <td>0.47</td>\n",
       "      <td>1.18</td>\n",
       "      <td>0.62</td>\n",
       "      <td>1.03</td>\n",
       "      <td>0.62</td>\n",
       "      <td>0.50</td>\n",
       "    </tr>\n",
       "    <tr>\n",
       "      <th>min</th>\n",
       "      <td>29.00</td>\n",
       "      <td>0.00</td>\n",
       "      <td>0.00</td>\n",
       "      <td>94.00</td>\n",
       "      <td>126.00</td>\n",
       "      <td>0.00</td>\n",
       "      <td>0.00</td>\n",
       "      <td>71.00</td>\n",
       "      <td>0.00</td>\n",
       "      <td>0.00</td>\n",
       "      <td>0.00</td>\n",
       "      <td>0.00</td>\n",
       "      <td>0.00</td>\n",
       "      <td>0.00</td>\n",
       "    </tr>\n",
       "    <tr>\n",
       "      <th>25%</th>\n",
       "      <td>48.00</td>\n",
       "      <td>0.00</td>\n",
       "      <td>0.00</td>\n",
       "      <td>120.00</td>\n",
       "      <td>211.00</td>\n",
       "      <td>0.00</td>\n",
       "      <td>0.00</td>\n",
       "      <td>132.00</td>\n",
       "      <td>0.00</td>\n",
       "      <td>0.00</td>\n",
       "      <td>1.00</td>\n",
       "      <td>0.00</td>\n",
       "      <td>2.00</td>\n",
       "      <td>0.00</td>\n",
       "    </tr>\n",
       "    <tr>\n",
       "      <th>50%</th>\n",
       "      <td>56.00</td>\n",
       "      <td>1.00</td>\n",
       "      <td>1.00</td>\n",
       "      <td>130.00</td>\n",
       "      <td>240.00</td>\n",
       "      <td>0.00</td>\n",
       "      <td>1.00</td>\n",
       "      <td>152.00</td>\n",
       "      <td>0.00</td>\n",
       "      <td>0.80</td>\n",
       "      <td>1.00</td>\n",
       "      <td>0.00</td>\n",
       "      <td>2.00</td>\n",
       "      <td>1.00</td>\n",
       "    </tr>\n",
       "    <tr>\n",
       "      <th>75%</th>\n",
       "      <td>61.00</td>\n",
       "      <td>1.00</td>\n",
       "      <td>2.00</td>\n",
       "      <td>140.00</td>\n",
       "      <td>275.00</td>\n",
       "      <td>0.00</td>\n",
       "      <td>1.00</td>\n",
       "      <td>166.00</td>\n",
       "      <td>1.00</td>\n",
       "      <td>1.80</td>\n",
       "      <td>2.00</td>\n",
       "      <td>1.00</td>\n",
       "      <td>3.00</td>\n",
       "      <td>1.00</td>\n",
       "    </tr>\n",
       "    <tr>\n",
       "      <th>max</th>\n",
       "      <td>77.00</td>\n",
       "      <td>1.00</td>\n",
       "      <td>3.00</td>\n",
       "      <td>200.00</td>\n",
       "      <td>564.00</td>\n",
       "      <td>1.00</td>\n",
       "      <td>2.00</td>\n",
       "      <td>202.00</td>\n",
       "      <td>1.00</td>\n",
       "      <td>6.20</td>\n",
       "      <td>2.00</td>\n",
       "      <td>4.00</td>\n",
       "      <td>3.00</td>\n",
       "      <td>1.00</td>\n",
       "    </tr>\n",
       "  </tbody>\n",
       "</table>\n",
       "</div>"
      ],
      "text/plain": [
       "           age      sex       cp  trestbps     chol      fbs  restecg  \\\n",
       "count  1025.00  1025.00  1025.00   1025.00  1025.00  1025.00  1025.00   \n",
       "mean     54.43     0.70     0.94    131.61   246.00     0.15     0.53   \n",
       "std       9.07     0.46     1.03     17.52    51.59     0.36     0.53   \n",
       "min      29.00     0.00     0.00     94.00   126.00     0.00     0.00   \n",
       "25%      48.00     0.00     0.00    120.00   211.00     0.00     0.00   \n",
       "50%      56.00     1.00     1.00    130.00   240.00     0.00     1.00   \n",
       "75%      61.00     1.00     2.00    140.00   275.00     0.00     1.00   \n",
       "max      77.00     1.00     3.00    200.00   564.00     1.00     2.00   \n",
       "\n",
       "       thalach    exang  oldpeak    slope       ca     thal   target  \n",
       "count  1025.00  1025.00  1025.00  1025.00  1025.00  1025.00  1025.00  \n",
       "mean    149.11     0.34     1.07     1.39     0.75     2.32     0.51  \n",
       "std      23.01     0.47     1.18     0.62     1.03     0.62     0.50  \n",
       "min      71.00     0.00     0.00     0.00     0.00     0.00     0.00  \n",
       "25%     132.00     0.00     0.00     1.00     0.00     2.00     0.00  \n",
       "50%     152.00     0.00     0.80     1.00     0.00     2.00     1.00  \n",
       "75%     166.00     1.00     1.80     2.00     1.00     3.00     1.00  \n",
       "max     202.00     1.00     6.20     2.00     4.00     3.00     1.00  "
      ]
     },
     "execution_count": 7,
     "metadata": {},
     "output_type": "execute_result"
    }
   ],
   "source": [
    "# External Imports\n",
    "import numpy as np\n",
    "import pandas as pd\n",
    "\n",
    "# Internal Imports\n",
    "\n",
    "# Read data\n",
    "data = pd.read_csv('./private/files/heart.csv')\n",
    "\n",
    "# Analyze datas\n",
    "data.describe().round(2)"
   ]
  },
  {
   "cell_type": "markdown",
   "metadata": {},
   "source": [
    "# 1- \n",
    "La distribution de l'âge des individus dans le jeu de données montre une répartition variée, allant de 29 à 77 ans, avec des fréquences variables dans chaque tranche d'âge."
   ]
  },
  {
   "cell_type": "code",
   "execution_count": 8,
   "metadata": {},
   "outputs": [
    {
     "name": "stdout",
     "output_type": "stream",
     "text": [
      "Proportions de maladie cardiaque par sexe :\n",
      "sex\n",
      "0    0.724359\n",
      "1    0.420757\n",
      "Name: target, dtype: float64\n"
     ]
    }
   ],
   "source": [
    "# Look for correlation between age and cardiovascular disease\n",
    "proportions = data.groupby('sex')['target'].mean()\n",
    "# Affichage des proportions\n",
    "print(\"Proportions de maladie cardiaque par sexe :\")\n",
    "print(proportions)"
   ]
  },
  {
   "cell_type": "markdown",
   "metadata": {},
   "source": [
    "# 2-\n",
    "Le résultat indique les proportions de maladie cardiaque pour chaque sexe.\n",
    "\n",
    "- Pour le sexe 0 (supposément féminin, puisque 0 peut être généralement utilisé pour représenter le féminin dans de nombreux jeux de données), la proportion de maladie cardiaque est d'environ 0.724 ou 72.4%.\n",
    "- Pour le sexe 1 (supposément masculin, puisque 1 peut être généralement utilisé pour représenter le masculin), la proportion de maladie cardiaque est d'environ 0.421 ou 42.1%.\n",
    "\n",
    "Cela indique qu'il y a une différence significative dans la présence de maladie cardiaque entre les sexes dans votre jeu de données. En particulier, les femmes (sexe 0) semblent avoir une proportion plus élevée de maladie cardiaque par rapport aux hommes (sexe 1). Cette différence pourrait être explorée davantage pour comprendre les facteurs sous-jacents et les implications cliniques."
   ]
  },
  {
   "cell_type": "code",
   "execution_count": 9,
   "metadata": {},
   "outputs": [
    {
     "name": "stdout",
     "output_type": "stream",
     "text": [
      "Proportions de maladie cardiaque pour chaque type de douleur thoracique :\n",
      "cp\n",
      "0    0.245473\n",
      "1    0.802395\n",
      "2    0.771127\n",
      "3    0.662338\n",
      "Name: target, dtype: float64\n"
     ]
    }
   ],
   "source": [
    "# Calculer les proportions de maladie cardiaque pour chaque type de douleur thoracique\n",
    "proportions = data.groupby('cp')['target'].mean()\n",
    "\n",
    "# Afficher les résultats\n",
    "print(\"Proportions de maladie cardiaque pour chaque type de douleur thoracique :\")\n",
    "print(proportions)"
   ]
  },
  {
   "cell_type": "markdown",
   "metadata": {},
   "source": [
    "# 3-\n",
    "Les résultats indiquent les proportions de maladie cardiaque pour chaque type de douleur thoracique (cp)  :\n",
    "\n",
    "- Pour le type de douleur thoracique 0, la proportion de maladie cardiaque est d'environ 0.245 ou 24.5%.\n",
    "- Pour le type de douleur thoracique 1, la proportion de maladie cardiaque est d'environ 0.802 ou 80.2%.\n",
    "- Pour le type de douleur thoracique 2, la proportion de maladie cardiaque est d'environ 0.771 ou 77.1%.\n",
    "- Pour le type de douleur thoracique 3, la proportion de maladie cardiaque est d'environ 0.662 ou 66.2%.\n",
    "\n",
    "Ces résultats suggèrent qu'il existe une différence significative dans la proportion de maladie cardiaque entre les différents types de douleur thoracique. En particulier, les types de douleur thoracique 1, 2 et 3 semblent avoir des proportions plus élevées de maladie cardiaque par rapport au type de douleur thoracique 0. Cela suggère une relation potentielle entre le type de douleur thoracique et la présence de maladie cardiaque dans votre jeu de données."
   ]
  },
  {
   "cell_type": "code",
   "execution_count": 10,
   "metadata": {},
   "outputs": [
    {
     "name": "stdout",
     "output_type": "stream",
     "text": [
      "Valeurs moyennes pour chaque variable en fonction de la présence ou de l'absence de maladie cardiaque :\n",
      "          trestbps     thalach        chol\n",
      "target                                    \n",
      "0       134.106212  139.130261  251.292585\n",
      "1       129.245247  158.585551  240.979087\n"
     ]
    }
   ],
   "source": [
    "# Calculer les valeurs moyennes pour chaque variable en fonction de la présence ou de l'absence de maladie cardiaque\n",
    "mean_values = data.groupby('target')[['trestbps', 'thalach', 'chol']].mean()\n",
    "\n",
    "# Afficher les résultats\n",
    "print(\"Valeurs moyennes pour chaque variable en fonction de la présence ou de l'absence de maladie cardiaque :\")\n",
    "print(mean_values)"
   ]
  },
  {
   "cell_type": "markdown",
   "metadata": {},
   "source": [
    "# 4-\n",
    "Les valeurs moyennes pour chaque variable en fonction de la présence ou de l'absence de maladie cardiaque sont les suivantes :\n",
    "\n",
    "- Pour les individus sans maladie cardiaque (target = 0) :\n",
    "  - Pression artérielle au repos moyenne : environ 134.11 mmHg\n",
    "  - Fréquence cardiaque maximale moyenne : environ 139.13 bpm\n",
    "  - Cholestérol moyen : environ 251.29 mg/dL\n",
    "\n",
    "- Pour les individus avec maladie cardiaque (target = 1) :\n",
    "  - Pression artérielle au repos moyenne : environ 129.25 mmHg\n",
    "  - Fréquence cardiaque maximale moyenne : environ 158.59 bpm\n",
    "  - Cholestérol moyen : environ 240.98 mg/dL\n",
    "\n",
    "Ces valeurs moyennes fournissent des informations sur les différences moyennes dans ces variables entre les individus avec et sans maladie cardiaque. Par exemple, les individus avec maladie cardiaque semblent avoir une pression artérielle au repos légèrement plus basse, une fréquence cardiaque maximale plus élevée et un cholestérol légèrement plus bas en moyenne par rapport aux individus sans maladie cardiaque."
   ]
  },
  {
   "cell_type": "code",
   "execution_count": 11,
   "metadata": {},
   "outputs": [
    {
     "name": "stdout",
     "output_type": "stream",
     "text": [
      "Proportions de maladie cardiaque pour les individus avec fbs <= 120 mg/dl et fbs > 120 mg/dl :\n",
      "fbs\n",
      "0    0.521789\n",
      "1    0.464052\n",
      "Name: target, dtype: float64\n"
     ]
    }
   ],
   "source": [
    "# Calculer les proportions de maladie cardiaque pour les deux groupes de glycémie à jeun\n",
    "proportions = data.groupby('fbs')['target'].mean()\n",
    "\n",
    "# Afficher les résultats\n",
    "print(\"Proportions de maladie cardiaque pour les individus avec fbs <= 120 mg/dl et fbs > 120 mg/dl :\")\n",
    "print(proportions)"
   ]
  },
  {
   "cell_type": "markdown",
   "metadata": {},
   "source": [
    "# 5-\n",
    "Les résultats montrent les proportions de maladie cardiaque pour les individus avec une glycémie à jeun inférieure ou égale à 120 mg/dl (fbs = 0) et pour ceux avec une glycémie à jeun au-dessus de 120 mg/dl (fbs = 1)  :\n",
    "\n",
    "- Pour les individus avec une glycémie à jeun inférieure ou égale à 120 mg/dl, la proportion de maladie cardiaque est d'environ 0.522 ou 52.2%.\n",
    "- Pour les individus avec une glycémie à jeun au-dessus de 120 mg/dl, la proportion de maladie cardiaque est d'environ 0.464 ou 46.4%.\n",
    "\n",
    "Cela indique qu'il y a une légère différence dans la proportion de maladie cardiaque entre les deux groupes, mais elle n'est pas très significative. Dans cet ensemble de données, une glycémie à jeun plus élevée ne semble pas être fortement associée à une présence accrue de maladie cardiaque."
   ]
  },
  {
   "cell_type": "code",
   "execution_count": 12,
   "metadata": {},
   "outputs": [
    {
     "name": "stdout",
     "output_type": "stream",
     "text": [
      "Proportions de maladie cardiaque pour chaque valeur de la variable exang :\n",
      "exang\n",
      "0    0.669118\n",
      "1    0.205797\n",
      "Name: target, dtype: float64\n"
     ]
    }
   ],
   "source": [
    "# Calculer les proportions de maladie cardiaque pour chaque valeur de la variable exang\n",
    "proportions = data.groupby('exang')['target'].mean()\n",
    "\n",
    "# Afficher les résultats\n",
    "print(\"Proportions de maladie cardiaque pour chaque valeur de la variable exang :\")\n",
    "print(proportions)"
   ]
  },
  {
   "cell_type": "markdown",
   "metadata": {},
   "source": [
    "# 6- \n",
    "Les résultats montrent les proportions de maladie cardiaque pour chaque valeur de la variable exang (angine induite par l'exercice)     :\n",
    "\n",
    "- Pour les individus sans angine induite par l'exercice (exang = 0), la proportion de maladie cardiaque est d'environ 0.669 ou 66.9%.\n",
    "- Pour les individus avec angine induite par l'exercice (exang = 1), la proportion de maladie cardiaque est d'environ 0.206 ou 20.6%.\n",
    "\n",
    "Cela indique qu'il y a une corrélation significative entre l'angine induite par l'exercice et la présence de maladie cardiaque dans votre jeu de données. En particulier, les individus avec angine induite par l'exercice semblent avoir une proportion nettement plus faible de maladie cardiaque par rapport à ceux sans angine induite par l'exercice."
   ]
  },
  {
   "cell_type": "markdown",
   "metadata": {},
   "source": [
    "1. **Différences de maladie cardiaque entre les sexes** : Les données indiquent une différence significative dans la proportion de maladie cardiaque entre les sexes. Les femmes semblent avoir une proportion plus élevée de maladie cardiaque que les hommes dans cet ensemble de données.\n",
    "\n",
    "2. **Relation entre le type de douleur thoracique et la maladie cardiaque** : Il existe une association notable entre le type de douleur thoracique et la présence de maladie cardiaque. Les individus avec certains types de douleur thoracique (notamment les types 1, 2 et 3) présentent des proportions plus élevées de maladie cardiaque que ceux avec le type 0.\n",
    "\n",
    "3. **Impact des variables physiologiques sur la maladie cardiaque** : Les variables physiologiques telles que la pression artérielle au repos, la fréquence cardiaque maximale et le taux de cholestérol semblent être associées à la présence de maladie cardiaque. Par exemple, les individus atteints de maladie cardiaque ont tendance à avoir des niveaux plus bas de pression artérielle au repos et de cholestérol, mais des fréquences cardiaques maximales plus élevées que ceux sans maladie cardiaque.\n",
    "\n",
    "4. **Relation entre l'angine induite par l'exercice et la maladie cardiaque** : Il existe une corrélation significative entre l'angine induite par l'exercice et la présence de maladie cardiaque. Les individus avec angine induite par l'exercice ont une proportion nettement plus faible de maladie cardiaque que ceux sans angine induite par l'exercice.\n",
    "\n",
    "5. **Impact de la glycémie à jeun sur la maladie cardiaque** : Bien qu'il y ait une légère différence dans la proportion de maladie cardiaque entre les individus avec une glycémie à jeun inférieure ou égale à 120 mg/dl et ceux avec une glycémie à jeun supérieure à 120 mg/dl, cette différence n'est pas très significative dans cet ensemble de données.\n",
    "\n",
    "Ces déductions fournissent un aperçu des facteurs qui pourraient être associés à la maladie cardiaque dans votre jeu de données, ce qui pourrait être utile pour orienter des analyses plus approfondies ou des décisions cliniques."
   ]
  }
 ],
 "metadata": {
  "kernelspec": {
   "display_name": "env",
   "language": "python",
   "name": "python3"
  },
  "language_info": {
   "codemirror_mode": {
    "name": "ipython",
    "version": 3
   },
   "file_extension": ".py",
   "mimetype": "text/x-python",
   "name": "python",
   "nbconvert_exporter": "python",
   "pygments_lexer": "ipython3",
   "version": "3.12.1"
  }
 },
 "nbformat": 4,
 "nbformat_minor": 2
}
